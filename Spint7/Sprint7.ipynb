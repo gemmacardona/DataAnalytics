{
 "cells": [
  {
   "cell_type": "markdown",
   "metadata": {},
   "source": [
    "### <span style=\"color: rgb(230, 0, 126);\"> Nivell 1</span>\n",
    "\n",
    "#### <span style=\"color: rgb(230, 0, 126);\"> Exercici 1: calculadora de l'índex dde massa corporal </span>\n",
    "\n",
    "Escriu una funció que calculi l'IMC ingressat per l'usuari/ària, és a dir, qui ho executi haurà d'ingressar aquestes dades. \n",
    "\n",
    "La funció ha de classificar el resultat en les seves respectives categories\n"
   ]
  },
  {
   "cell_type": "code",
   "execution_count": 66,
   "metadata": {},
   "outputs": [],
   "source": [
    "def introducir_datos(masa=None, altura=None):\n",
    "    # Si no ens especifiquen alguna dada, la demanem. A més, si utilitzen coma en lloc de punt per separar els decimals, ho canviem\n",
    "    if masa is None:\n",
    "        masa = float(input(\"Introdueix el teu pes en kg: \").replace(',', '.'))\n",
    "    if altura is None:\n",
    "        altura = float(input(\"Introdueix la teva alçada en metres: \").replace(',', '.'))\n",
    "    return masa, altura\n",
    "\n",
    "def calcular_imc(masa, altura):\n",
    "    return round(masa / altura**2, 1)\n",
    "\n",
    "def clasificacion(imc):\n",
    "    if imc < 18.5:\n",
    "        return \"bajo peso (menos de 18.5).\"\n",
    "    elif imc < 25: \n",
    "        return \"peso normal (18.5-24.9).\"\n",
    "    elif imc < 30:\n",
    "        return \"sobrepeso (25-29.9).\"\n",
    "    else:\n",
    "        return \"obesidad (30 o más).\"\n",
    "\n",
    "def mostrar_resultado(imc, clasificacion_text):\n",
    "    print(f\"Tu IMC es {imc}, lo cual se considera {clasificacion_text}\")\n",
    "\n",
    "def calculadora_imc(masa=None, altura=None):\n",
    "    \"\"\"Calcula el índice de masa corporal y especifica la categoría.\n",
    "    Entrada:\n",
    "        Masa (en kg) y altura (en metros)\n",
    "    Retorno:\n",
    "        No hay, imprime en pantalla.\n",
    "    Ejemplo:\n",
    "    >>> calculadora_imc(80, 1.55)\n",
    "    >>> Tu IMC es: 33.3, lo cual se considera obesidad (30 o más).\n",
    "    \"\"\"\n",
    "    masa, altura = introducir_datos(masa, altura)\n",
    "    imc = calcular_imc(masa, altura)\n",
    "    categoria = clasificacion(imc)\n",
    "    return mostrar_resultado(imc, categoria)\n",
    "\n",
    "\n",
    "# Versión anterior: \n",
    "\n",
    "#def calculadora_imc(masa=None, altura=None):\n",
    "#    # Si no ens especifiquen alguna dada, la demanem. A més, si utilitzen coma en lloc de punt per separar els decimals, ho canviem\n",
    "#    if masa is None:\n",
    "#        masa = float(input(\"Introdueix el teu pes en kg: \").replace(',', '.'))\n",
    "#    if altura is None:\n",
    "#        altura = float(input(\"Introdueix la teva alçada en metres: \").replace(',', '.'))\n",
    "#   \n",
    "#    #Calculem IMC\n",
    "#    IMC = round(masa/altura**2,1)\n",
    "#\n",
    "#    if IMC < 18.5:\n",
    "#        print(\"Tu IMC es de \" + str(IMC) + \", lo cual se considera bajo peso\")\n",
    "#    elif IMC<25:\n",
    "#        print(\"Tu IMC es de \" + str(IMC) + \", lo cual se considera peso normal\")\n",
    "#    elif IMC<30:\n",
    "#        print(\"Tu IMC es de \" + str(IMC) + \", lo cual se considera sobrepeso\")\n",
    "#    else: \n",
    "#        print(\"Tu IMC es de \" + str(IMC) + \", lo cual se considera obesidad\")\n"
   ]
  },
  {
   "cell_type": "code",
   "execution_count": 67,
   "metadata": {},
   "outputs": [
    {
     "name": "stdout",
     "output_type": "stream",
     "text": [
      "Tu IMC es 33.3, lo cual se considera obesidad (30 o más).\n"
     ]
    }
   ],
   "source": [
    "calculadora_imc(80,1.55)"
   ]
  },
  {
   "cell_type": "markdown",
   "metadata": {},
   "source": [
    "#### <span style=\"color: rgb(230, 0, 126);\"> Exercici 2: convertidor de temperatures</span>\n",
    "\n",
    "Existeixen diverses unitats de temperatura utilitzades en diferents contextos i regions. Les més comunes són Celsius (°C), Fahrenheit (°F) i Kelvin (K). També existeixen altres unitats com Rankine (°Ra) i Réaumur (°Re). Selecciona almenys 2 conversors, de tal manera que en introduir una temperatura retorni, com a mínim, dues conversions."
   ]
  },
  {
   "cell_type": "code",
   "execution_count": 68,
   "metadata": {},
   "outputs": [],
   "source": [
    "\n",
    "def conversor_temperatura(unitats, valor):\n",
    "    \"\"\"Convierte los grados entre distintas unidades.\n",
    "    Entrada:\n",
    "        Unidades de entrada y salida. Las conversiones posibles son 'c-f','f-c','c-k','k-c',f-k','k-f'.\n",
    "    Retorno:\n",
    "        Temperatura en las unidad de salida especificada.\n",
    "    Ejempl:\n",
    "    >>> conversor_temperatura('k-c', 1.36)\n",
    "    >>> -237.15\n",
    "        \"\"\"\n",
    "    dict_grados = {\n",
    "        'c-f': round(valor * 9 / 5 + 32, 2),\n",
    "        'f-c': round((valor - 32) * 5 / 9, 2),\n",
    "        'c-k': round(valor + 273.15, 2),\n",
    "        'k-c': round(valor - 273.15, 2),\n",
    "        'f-k': round((valor - 32) * 5 / 9 + 273.15, 2),\n",
    "        'k-f': round((valor - 273.15) * 9 / 5 + 32, 2)\n",
    "    }\n",
    "\n",
    "    if unitats not in dict_grados:\n",
    "        print(\"Error: las unidades deben ser una de estas llaves válidas:\", ', '.join(dict_grados.keys()))\n",
    "        return None\n",
    "\n",
    "    return dict_grados[unitats]\n",
    "\n",
    "\n",
    "\n",
    "# Versión anterior\n",
    "#def conversor_temperatura (valor=None, unitat=None):\n",
    "#    \n",
    "#    if valor is None:\n",
    "#        valor = float(input(\"Introdueix una temperatura: \").replace(',', '.'))\n",
    "#    if unitat is None:\n",
    "#        unitat = input(\"Introdueix les unitats de temeperatura (C,F o K): \")\n",
    "#   \n",
    "#\n",
    "#    if unitat ==  'C':\n",
    "#        fahrenheit = round(valor * 9 / 5 + 32, 2)\n",
    "#        kelvin = round(valor + 273.15,2)\n",
    "#        print(\"Una temperatura de \" + str(valor) + \" °C equival a \" + str(fahrenheit) + \" °F i \" + str(kelvin) + \" K.\")\n",
    "#    elif unitat == 'F':\n",
    "#        celcius = round((valor - 32) * 5 / 9, 2)\n",
    "#        kelvin = round(celcius + 273.15,2)\n",
    "#        print(\"Una temperatura de \" + str(valor) + \" °F equival a \" + str(celcius) + \" °C i \" + str(kelvin) + \" K.\")\n",
    "#    elif unitat == 'K':\n",
    "#        fahrenheit = round((valor - 273.15) * 9 / 5 + 32, 2)\n",
    "#        celcius = round(valor - 273.15,2)\n",
    "#        print(\"Una temperatura de \" + str(valor) + \" K equival a \" + str(celcius) + \" °C i \" + str(fahrenheit) + \" °F.\")\n",
    "#    else: \n",
    "#        print(\"Indica una unitat de temperatura vàlida\")"
   ]
  },
  {
   "cell_type": "code",
   "execution_count": 69,
   "metadata": {},
   "outputs": [
    {
     "data": {
      "text/plain": [
       "-237.15"
      ]
     },
     "execution_count": 69,
     "metadata": {},
     "output_type": "execute_result"
    }
   ],
   "source": [
    "conversor_temperatura('k-c',36)"
   ]
  },
  {
   "cell_type": "markdown",
   "metadata": {},
   "source": [
    "#### <span style=\"color: rgb(230, 0, 126);\"> Exercici 3: Comptador de paraules d'un text</span>\n",
    "\n",
    "Escriu una funció que donat un text, mostri les vegades que apareix cada paraula."
   ]
  },
  {
   "cell_type": "code",
   "execution_count": 70,
   "metadata": {},
   "outputs": [],
   "source": [
    "import string\n",
    "\n",
    "def introduir_text():\n",
    "    \"\"\"Demana a l'usuari que escrigui un text i el retorna.\"\"\"\n",
    "    text = input(\"Escriu el que vulguis: \")\n",
    "    return text \n",
    "\n",
    "def netejar_i_dividir(text):\n",
    "    \"\"\"Passa a minúscules, esborra signes de puntuació i separa en paraules.\"\"\"\n",
    "    text = text.lower()\n",
    "    for signe in string.punctuation:\n",
    "        text = text.replace(signe, \"\")\n",
    "    return text.split()\n",
    "\n",
    "def comptador(paraules):\n",
    "    recompte_paraules = {}\n",
    "\n",
    "    for paraula in paraules:\n",
    "        if paraula in recompte_paraules:\n",
    "            recompte_paraules[paraula] += 1\n",
    "        else:\n",
    "            recompte_paraules[paraula] = 1\n",
    "\n",
    "    return recompte_paraules\n",
    "\n",
    "def comptador_paraules():\n",
    "    \"\"\"Donat un text, mostra les vegades que apareix cada paraula.\"\"\"\n",
    "    text = introduir_text()\n",
    "    paraules = netejar_i_dividir(text)\n",
    "    resultat = comptador(paraules) \n",
    "    return resultat\n"
   ]
  },
  {
   "cell_type": "code",
   "execution_count": 71,
   "metadata": {},
   "outputs": [
    {
     "data": {
      "text/plain": [
       "{'hola': 1, 'gemma': 1, 'com': 1, 'estàs': 3}"
      ]
     },
     "execution_count": 71,
     "metadata": {},
     "output_type": "execute_result"
    }
   ],
   "source": [
    "comptador_paraules()"
   ]
  },
  {
   "cell_type": "markdown",
   "metadata": {},
   "source": [
    "#### <span style=\"color: rgb(230, 0, 126);\"> Exercici 4: Diccionari invers</span>\n",
    "\n",
    "Resulta que el client té una enquesta molt antiga que s'emmagatzema en un diccionari i els resultats els necessita al revés, és a dir, intercanviats les claus i els valors. Els valors i claus en el diccionari original són únics; si aquest no és el cas, la funció hauria d'imprimir un missatge d'advertiment."
   ]
  },
  {
   "cell_type": "code",
   "execution_count": 72,
   "metadata": {},
   "outputs": [],
   "source": [
    "def reverse_dictionary(diccionari):\n",
    "    seen_values = set()\n",
    "    for valor in diccionari.values():\n",
    "        if valor in seen_values:\n",
    "            print(\"Error: multiple keys for one value\")\n",
    "            return None\n",
    "        seen_values.add(valor)\n",
    "    reverse_dictionary = {valor: clau for clau, valor in diccionari.items()}\n",
    "    return reverse_dictionary\n"
   ]
  },
  {
   "cell_type": "code",
   "execution_count": 73,
   "metadata": {},
   "outputs": [
    {
     "data": {
      "text/plain": [
       "{1: 'a', 2: 'b', 3: 'c'}"
      ]
     },
     "execution_count": 73,
     "metadata": {},
     "output_type": "execute_result"
    }
   ],
   "source": [
    "reverse_dictionary({'a':1,'b':2,'c':3})"
   ]
  },
  {
   "cell_type": "code",
   "execution_count": 74,
   "metadata": {},
   "outputs": [
    {
     "name": "stdout",
     "output_type": "stream",
     "text": [
      "Error: multiple keys for one value\n"
     ]
    }
   ],
   "source": [
    "reverse_dictionary({'x':'apple','y':'banana','z':'banana'})"
   ]
  },
  {
   "cell_type": "markdown",
   "metadata": {},
   "source": [
    "### <span style=\"color: rgb(230, 0, 126);\"> Nivell 2</span>\n",
    "\n",
    "#### <span style=\"color: rgb(230, 0, 126);\"> Exercici 1: Diccionari invers amb duplicats </span>\n",
    "\n",
    "Continuant amb l'exercici 4 del nivell 1: al client es va oblidar de comentar un detall i resulta que els valors en el diccionari original poden duplicar-se i més, per la qual cosa les claus intercanviades poden tenir duplicats. En aquest cas, en l'exercici anterior imprimies un missatge d'advertiment, ara, els valors del diccionari resultant hauran d'emmagatzemar-se com una llista. Tingues en compte que si és un valor únic no ha de ser una llista."
   ]
  },
  {
   "cell_type": "code",
   "execution_count": 75,
   "metadata": {},
   "outputs": [],
   "source": [
    "def reverse_dictionary_plus(diccionari):\n",
    "    reversed_dict = {}\n",
    "\n",
    "    for clau, valor in diccionari.items():\n",
    "        if valor not in reversed_dict:# Si el valor encara no és una clau en el diccionari invertit...\n",
    "           reversed_dict[valor] = clau # ...afegeix el valor com a nova clau i assigna la clau original com a valor\n",
    "        else: # Si el valor ja existeix com a clau en el diccionari invertit...\n",
    "            anterior = reversed_dict[valor] # ...recollim el valor actual associat (que pot ser un sol element o una llista)\n",
    "\n",
    "            if isinstance(anterior, list): # Si l'element existent ja és una llista... \n",
    "              anterior.append(clau) #...hi afegim la nova clau\n",
    "            else: # Si només hi havia un element...\n",
    "                reversed_dict[valor] = [anterior, clau] # ...ho convertim en una llista amb les dues claus\n",
    "\n",
    "    # Retornem el diccionari invertit\n",
    "    return reversed_dict\n",
    "\n"
   ]
  },
  {
   "cell_type": "code",
   "execution_count": 76,
   "metadata": {},
   "outputs": [
    {
     "data": {
      "text/plain": [
       "{'apple': 'x', 'banana': ['y', 'z']}"
      ]
     },
     "execution_count": 76,
     "metadata": {},
     "output_type": "execute_result"
    }
   ],
   "source": [
    "reverse_dictionary_plus({'x':'apple','y':'banana','z':'banana'})"
   ]
  },
  {
   "cell_type": "markdown",
   "metadata": {},
   "source": [
    "#### <span style=\"color: rgb(230, 0, 126);\"> Exercici 2: Conversió de tipus de dades </span>\n",
    "\n",
    "El client rep una llista de dades i necessita generar dues llistes, la primera on estaran tots els elements que es van poder convertir en flotants i l'altra on estan els elements que no es van poder convertir. Exemple de la llista que rep el client: [ '1.3', 'one' , '1e10' , 'seven', '3-1/2', ('2',1,1.4,'not-a-number'), [1,2,'3','3.4']]. "
   ]
  },
  {
   "cell_type": "code",
   "execution_count": 77,
   "metadata": {},
   "outputs": [],
   "source": [
    "def conversion(data):\n",
    "    \"\"\"Donada una llista, separa els elements en dues llistes. \n",
    "    En la primera, els elements que s'han pogut convertir en flotants. \n",
    "    En la segona, els que no s'han pogut convertir.\n",
    "    \"\"\"\n",
    "    convertibles = []\n",
    "    no_convertibles = []\n",
    "    stack = list(data)  # Copiem la llista original com a pila\n",
    "\n",
    "    while stack:\n",
    "        element = stack.pop(0)\n",
    "        if isinstance(element, (list, tuple)):\n",
    "            stack.extend(element)  # Afegeix elements interns a la pila\n",
    "        else:\n",
    "            try:\n",
    "                convertibles.append(float(element))\n",
    "            except (ValueError, TypeError):\n",
    "                no_convertibles.append(element)\n",
    "\n",
    "    return convertibles, no_convertibles\n"
   ]
  },
  {
   "cell_type": "code",
   "execution_count": 78,
   "metadata": {},
   "outputs": [
    {
     "data": {
      "text/plain": [
       "([1.3, 10000000000.0, 2.0, 1.0, 1.4, 1.0, 2.0, 3.0, 3.4],\n",
       " ['one', 'seven', '3-1/2', 'not-a-number'])"
      ]
     },
     "execution_count": 78,
     "metadata": {},
     "output_type": "execute_result"
    }
   ],
   "source": [
    "conversion([ '1.3', 'one' , '1e10' , 'seven', '3-1/2', ('2',1,1.4,'not-a-number'), [1,2,'3','3.4']])"
   ]
  },
  {
   "cell_type": "markdown",
   "metadata": {},
   "source": [
    "### <span style=\"color: rgb(230, 0, 126);\"> Nivell 3</span>\n",
    "\n",
    "#### <span style=\"color: rgb(230, 0, 126);\"> Exercici 1: Comptador i endreçador de paraules d'un text </span>\n",
    "\n",
    "El client va quedar content amb el comptador de paraules, però ara vol llegir arxius TXT i que calculi la freqüència de cada paraula ordenades dins de les entrades habituals del diccionari segons la lletra amb la qual comencen, és a dir, les claus han d'anar de la A a la Z i dins de la A hem d'anar de la A la Z. Per exemple, per a l'arxiu \"tu_me_quieres_blanca.txt\" la sortida esperada seria:"
   ]
  },
  {
   "cell_type": "code",
   "execution_count": 79,
   "metadata": {},
   "outputs": [],
   "source": [
    "import string\n",
    "\n",
    "def llegir_fitxer(nom_fitxer):\n",
    "    \"\"\"Llegeix el contingut d’un fitxer de text.\"\"\"\n",
    "    with open(nom_fitxer, 'r', encoding='utf-8') as f:\n",
    "        return f.read()\n",
    "\n",
    "# Aquí utilitzarem la funció definida abans netejar_i_dividir(text):\n",
    "\n",
    "def comptador_paraules_per_lletra(paraules):\n",
    "    \"\"\"Classifica les paraules per lletra inicial i les compta.\"\"\"\n",
    "    diccionari = {}\n",
    "\n",
    "    for paraula in paraules:\n",
    "        inicial = paraula[0].upper()\n",
    "\n",
    "        if inicial not in diccionari:\n",
    "            diccionari[inicial] = {}\n",
    "        else: \n",
    "            if paraula not in diccionari[inicial]:\n",
    "                diccionari[inicial][paraula] = 1\n",
    "            else:\n",
    "                diccionari[inicial][paraula] += 1\n",
    "\n",
    "    return diccionari\n",
    "\n",
    "def ordenar_diccionari(diccionari):\n",
    "    \"\"\"Ordena alfabèticament les lletres i les paraules dins de cada lletra.\"\"\"\n",
    "    diccionari_ordenat = {}\n",
    "    for lletra in sorted(diccionari.keys()):\n",
    "        paraules_ordenades = dict(sorted(diccionari[lletra].items()))\n",
    "        diccionari_ordenat[lletra] = paraules_ordenades\n",
    "    return diccionari_ordenat\n",
    "\n",
    "def comptador_paraules_txt(nom_fitxer):\n",
    "    \"\"\"Llegeix arxius TXT i escriu en un diccionari, per cada lletra, totes les paraules que comencen per aquella lletra i freqüència amb la que apareixen ordenades alfabèticament.\n",
    "    Entrada: \n",
    "        fitxer TXT\n",
    "    Retorn: \n",
    "        diccionari\"\"\"\n",
    "    text = llegir_fitxer(nom_fitxer)\n",
    "    paraules = netejar_i_dividir(text)\n",
    "    freq = comptador_paraules_per_lletra(paraules)\n",
    "    resultat = ordenar_diccionari(freq)\n",
    "    return resultat\n"
   ]
  },
  {
   "cell_type": "code",
   "execution_count": 80,
   "metadata": {},
   "outputs": [
    {
     "data": {
      "text/plain": [
       "{'A': {'a': 3,\n",
       "  'agua': 1,\n",
       "  'al': 2,\n",
       "  'alba': 3,\n",
       "  'alcobas': 1,\n",
       "  'alimenta': 1,\n",
       "  'alma': 1,\n",
       "  'amarga': 1,\n",
       "  'azucena': 1},\n",
       " 'B': {'baco': 1,\n",
       "  'banquete': 1,\n",
       "  'bebe': 1,\n",
       "  'blanca': 2,\n",
       "  'boca': 1,\n",
       "  'bosques': 1,\n",
       "  'buen': 1},\n",
       " 'C': {'cabañas': 1,\n",
       "  'carnes': 2,\n",
       "  'casta': 2,\n",
       "  'cerrada': 1,\n",
       "  'con': 4,\n",
       "  'conservas': 1,\n",
       "  'copas': 1,\n",
       "  'corola': 1,\n",
       "  'corriste': 1,\n",
       "  'cuando': 2,\n",
       "  'cubierto': 1,\n",
       "  'cuerpo': 1,\n",
       "  'cuáles': 1},\n",
       " 'D': {'de': 7, 'dejaste': 1, 'del': 1, 'diga': 1, 'dios': 2, 'duerme': 1},\n",
       " 'E': {'el': 4,\n",
       "  'ellas': 1,\n",
       "  'en': 4,\n",
       "  'engaño': 1,\n",
       "  'enredada': 1,\n",
       "  'entonces': 1,\n",
       "  'escarcha': 1,\n",
       "  'esqueleto': 1,\n",
       "  'estrago': 1},\n",
       " 'F': {'festejando': 1, 'frutos': 1},\n",
       " 'H': {'habla': 1,\n",
       "  'hacia': 1,\n",
       "  'hayas': 1,\n",
       "  'hermana': 1,\n",
       "  'hombre': 1,\n",
       "  'hubiste': 1,\n",
       "  'huye': 1},\n",
       " 'I': {},\n",
       " 'J': {},\n",
       " 'L': {'la': 3,\n",
       "  'labios': 1,\n",
       "  'las': 7,\n",
       "  'lo': 2,\n",
       "  'los': 4,\n",
       "  'lévate': 1,\n",
       "  'límpiate': 1},\n",
       " 'M': {'mano': 1,\n",
       "  'manos': 1,\n",
       "  'margarita': 1,\n",
       "  'me': 8,\n",
       "  'mi': 1,\n",
       "  'mieles': 1,\n",
       "  'milagros': 1,\n",
       "  'mojada': 1,\n",
       "  'montaña': 1,\n",
       "  'morados': 1},\n",
       " 'N': {'negros': 1, 'ni': 2, 'no': 1, 'nívea': 2},\n",
       " 'P': {'perdone': 2,\n",
       "  'por': 2,\n",
       "  'pretendes': 3,\n",
       "  'preténdeme': 3,\n",
       "  'puesto': 1,\n",
       "  'pájaros': 1,\n",
       "  'pámpanos': 1},\n",
       " 'Q': {'que': 6, 'quedó': 1, 'quieres': 5},\n",
       " 'R': {'raíz': 1, 'renueva': 1, 'rocas': 1, 'rojo': 1},\n",
       " 'S': {'salitre': 1, 'se': 2, 'sean': 1, 'sobre': 2, 'sé': 1},\n",
       " 'T': {'te': 3,\n",
       "  'tejidos': 1,\n",
       "  'tenue': 1,\n",
       "  'tierra': 1,\n",
       "  'toca': 1,\n",
       "  'todas': 2,\n",
       "  'todavía': 1,\n",
       "  'tornadas': 1,\n",
       "  'tú': 7},\n",
       " 'U': {'una': 1},\n",
       " 'V': {'vete': 1, 'vive': 1},\n",
       " 'Y': {'y': 4},\n",
       " '¡': {}}"
      ]
     },
     "execution_count": 80,
     "metadata": {},
     "output_type": "execute_result"
    }
   ],
   "source": [
    "comptador_paraules_txt(\"tu_me_quieres_blanca.txt\")"
   ]
  }
 ],
 "metadata": {
  "kernelspec": {
   "display_name": "Python 3",
   "language": "python",
   "name": "python3"
  },
  "language_info": {
   "codemirror_mode": {
    "name": "ipython",
    "version": 3
   },
   "file_extension": ".py",
   "mimetype": "text/x-python",
   "name": "python",
   "nbconvert_exporter": "python",
   "pygments_lexer": "ipython3",
   "version": "3.7.4"
  }
 },
 "nbformat": 4,
 "nbformat_minor": 2
}
